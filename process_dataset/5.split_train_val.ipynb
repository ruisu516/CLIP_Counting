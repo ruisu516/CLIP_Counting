{
 "cells": [
  {
   "cell_type": "code",
   "execution_count": 3,
   "metadata": {},
   "outputs": [
    {
     "name": "stdout",
     "output_type": "stream",
     "text": [
      "480 120\n",
      "360 120\n",
      "480 120\n",
      "360 120\n",
      "480 120\n",
      "360 120\n"
     ]
    }
   ],
   "source": [
    "import random,json\n",
    "from sklearn.model_selection import train_test_split\n",
    "\n",
    "# Example dataset\n",
    "exited_reviewed_file = \"/Users/susu/Library/CloudStorage/OneDrive-Personal/Wisc/clip_count_continued/CLIP_Counting/online_data_0518_4class/4class_150_per_class/online_data_class_2345.json\"\n",
    "with open(exited_reviewed_file, 'r') as file:\n",
    "    exited_reviewed_data = json.load(file)\n",
    "# Function to split dataset while maintaining label ratio\n",
    "def split_data(data, test_size=0.2, random_seed=42):\n",
    "    # Extract labels\n",
    "    labels = [item['number'] for item in data]\n",
    "    \n",
    "\n",
    "    # Split data while maintaining the label ratio\n",
    "    train_data, val_data = train_test_split(data, test_size=test_size, random_state=random_seed, stratify=labels)\n",
    "    \n",
    "    return train_data, val_data\n",
    "\n",
    "\n",
    "# Split the data\n",
    "for random_seed in [42,123,7]:\n",
    "    dev_data, test_data = split_data(exited_reviewed_data, test_size=0.2, random_seed=random_seed)\n",
    "    print(len(dev_data),len(test_data))\n",
    "    with open(f\"/Users/susu/Library/CloudStorage/OneDrive-Personal/Wisc/clip_count_continued/CLIP_Counting/online_data_0518_4class/4class_150_per_class_3fold/online_data_class_2345_test_seed{random_seed}.json\",\"w\") as f:\n",
    "        json.dump(test_data,f,indent=4)\n",
    "        \n",
    "    train_data, val_data = split_data(dev_data, test_size=0.25, random_seed=random_seed)\n",
    "    print(len(train_data),len(val_data))\n",
    "\n",
    "    with open(f\"/Users/susu/Library/CloudStorage/OneDrive-Personal/Wisc/clip_count_continued/CLIP_Counting/online_data_0518_4class/4class_150_per_class_3fold/online_data_class_2345_train_seed{random_seed}.json\",\"w\") as f:\n",
    "        json.dump(train_data,f,indent=4)\n",
    "    \n",
    "    with open(f\"/Users/susu/Library/CloudStorage/OneDrive-Personal/Wisc/clip_count_continued/CLIP_Counting/online_data_0518_4class/4class_150_per_class_3fold/online_data_class_2345_val_seed{random_seed}.json\",\"w\") as f:\n",
    "        json.dump(val_data,f,indent=4)\n"
   ]
  }
 ],
 "metadata": {
  "kernelspec": {
   "display_name": "clipcount",
   "language": "python",
   "name": "python3"
  },
  "language_info": {
   "codemirror_mode": {
    "name": "ipython",
    "version": 3
   },
   "file_extension": ".py",
   "mimetype": "text/x-python",
   "name": "python",
   "nbconvert_exporter": "python",
   "pygments_lexer": "ipython3",
   "version": "3.8.18"
  },
  "orig_nbformat": 4
 },
 "nbformat": 4,
 "nbformat_minor": 2
}
