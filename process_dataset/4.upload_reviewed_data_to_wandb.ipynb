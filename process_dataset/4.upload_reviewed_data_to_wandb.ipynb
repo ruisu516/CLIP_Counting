{
 "cells": [
  {
   "cell_type": "code",
   "execution_count": 2,
   "metadata": {},
   "outputs": [
    {
     "name": "stderr",
     "output_type": "stream",
     "text": [
      "[nltk_data] Downloading package averaged_perceptron_tagger to\n",
      "[nltk_data]     /Users/susu/nltk_data...\n",
      "[nltk_data]   Package averaged_perceptron_tagger is already up-to-\n",
      "[nltk_data]       date!\n",
      "[nltk_data] Downloading package punkt to /Users/susu/nltk_data...\n",
      "[nltk_data]   Package punkt is already up-to-date!\n",
      "Failed to detect the name of this notebook, you can set it manually with the WANDB_NOTEBOOK_NAME environment variable to enable code saving.\n",
      "\u001b[34m\u001b[1mwandb\u001b[0m: Currently logged in as: \u001b[33mruisu\u001b[0m (\u001b[33mllm_efficiency\u001b[0m). Use \u001b[1m`wandb login --relogin`\u001b[0m to force relogin\n",
      "\u001b[34m\u001b[1mwandb\u001b[0m: \u001b[33mWARNING\u001b[0m If you're specifying your api key in code, ensure this code is not shared publicly.\n",
      "\u001b[34m\u001b[1mwandb\u001b[0m: \u001b[33mWARNING\u001b[0m Consider setting the WANDB_API_KEY environment variable, or running `wandb login` from the command line.\n",
      "\u001b[34m\u001b[1mwandb\u001b[0m: Appending key for api.wandb.ai to your netrc file: /Users/susu/.netrc\n"
     ]
    }
   ],
   "source": [
    "import nltk\n",
    "from nltk import pos_tag\n",
    "from nltk.tokenize import word_tokenize\n",
    "from nltk.chunk import RegexpParser\n",
    "import wandb\n",
    "import requests\n",
    "import json\n",
    "from io import BytesIO\n",
    "import svgling\n",
    "# from transformers import CLIPProcessor, CLIPModel\n",
    "from PIL import Image\n",
    "import tqdm\n",
    "# Initialize NLTK\n",
    "\n",
    "\n",
    "nltk.download('averaged_perceptron_tagger')\n",
    "nltk.download('punkt')\n",
    "\n",
    "wandb.login(key = \"f120e5e4c8c84329e87f496f85e6f7ded7732680\")\n",
    "\n",
    "grammar = r\"\"\"\n",
    "  NP: {<DT>?<JJ>*<NNS|NNPS>+}\n",
    "\"\"\"\n"
   ]
  },
  {
   "cell_type": "code",
   "execution_count": 12,
   "metadata": {},
   "outputs": [
    {
     "data": {
      "text/plain": [
       "18"
      ]
     },
     "execution_count": 12,
     "metadata": {},
     "output_type": "execute_result"
    }
   ],
   "source": [
    "# exited_reviewed_file = \"/Users/susu/Library/CloudStorage/OneDrive-Personal/Wisc/clip_count_continued/CLIP_Counting/online_data_0513/reviewed_marged_class_2345.json\"\n",
    "exited_reviewed_file = \"/Users/susu/Library/CloudStorage/OneDrive-Personal/Wisc/clip_count_continued/CLIP_Counting/online_data_0518_4class/10_self.json\"\n",
    "with open(exited_reviewed_file, 'r') as file:\n",
    "    exited_reviewed_data = json.load(file)\n",
    "len(exited_reviewed_data)"
   ]
  },
  {
   "cell_type": "code",
   "execution_count": null,
   "metadata": {},
   "outputs": [],
   "source": [
    ",\n",
    "    {\n",
    "        \"number\": 10,\n",
    "        \"target\": \"\",\n",
    "        \"target_context\": \"\",\n",
    "        \"image_url\": \"\",\n",
    "    }"
   ]
  },
  {
   "cell_type": "code",
   "execution_count": 18,
   "metadata": {},
   "outputs": [
    {
     "name": "stdout",
     "output_type": "stream",
     "text": [
      "9\n"
     ]
    },
    {
     "data": {
      "text/html": [
       "wandb version 0.17.0 is available!  To upgrade, please run:\n",
       " $ pip install wandb --upgrade"
      ],
      "text/plain": [
       "<IPython.core.display.HTML object>"
      ]
     },
     "metadata": {},
     "output_type": "display_data"
    },
    {
     "data": {
      "text/html": [
       "Tracking run with wandb version 0.16.6"
      ],
      "text/plain": [
       "<IPython.core.display.HTML object>"
      ]
     },
     "metadata": {},
     "output_type": "display_data"
    },
    {
     "data": {
      "text/html": [
       "Run data is saved locally in <code>/Users/susu/Library/CloudStorage/OneDrive-Personal/Wisc/clip_count_continued/CLIP_Counting/process_dataset/wandb/run-20240526_120321-3af7m3x3</code>"
      ],
      "text/plain": [
       "<IPython.core.display.HTML object>"
      ]
     },
     "metadata": {},
     "output_type": "display_data"
    },
    {
     "data": {
      "text/html": [
       "Syncing run <strong><a href='https://wandb.ai/ruisu/clip_count_filtered_images_reviewed/runs/3af7m3x3' target=\"_blank\">clear-fire-1824</a></strong> to <a href='https://wandb.ai/ruisu/clip_count_filtered_images_reviewed' target=\"_blank\">Weights & Biases</a> (<a href='https://wandb.me/run' target=\"_blank\">docs</a>)<br/>"
      ],
      "text/plain": [
       "<IPython.core.display.HTML object>"
      ]
     },
     "metadata": {},
     "output_type": "display_data"
    },
    {
     "data": {
      "text/html": [
       " View project at <a href='https://wandb.ai/ruisu/clip_count_filtered_images_reviewed' target=\"_blank\">https://wandb.ai/ruisu/clip_count_filtered_images_reviewed</a>"
      ],
      "text/plain": [
       "<IPython.core.display.HTML object>"
      ]
     },
     "metadata": {},
     "output_type": "display_data"
    },
    {
     "data": {
      "text/html": [
       " View run at <a href='https://wandb.ai/ruisu/clip_count_filtered_images_reviewed/runs/3af7m3x3' target=\"_blank\">https://wandb.ai/ruisu/clip_count_filtered_images_reviewed/runs/3af7m3x3</a>"
      ],
      "text/plain": [
       "<IPython.core.display.HTML object>"
      ]
     },
     "metadata": {},
     "output_type": "display_data"
    },
    {
     "data": {
      "text/html": [
       "<style>\n",
       "    table.wandb td:nth-child(1) { padding: 0 10px; text-align: left ; width: auto;} td:nth-child(2) {text-align: left ; width: 100%}\n",
       "    .wandb-row { display: flex; flex-direction: row; flex-wrap: wrap; justify-content: flex-start; width: 100% }\n",
       "    .wandb-col { display: flex; flex-direction: column; flex-basis: 100%; flex: 1; padding: 10px; }\n",
       "    </style>\n",
       "<div class=\"wandb-row\"><div class=\"wandb-col\"><h3>Run history:</h3><br/><table class=\"wandb\"><tr><td>number</td><td>▁</td></tr><tr><td>org_id</td><td>▁</td></tr><tr><td>reviewed</td><td>▁</td></tr></table><br/></div><div class=\"wandb-col\"><h3>Run summary:</h3><br/><table class=\"wandb\"><tr><td>dataset_name</td><td>pmd-yfcc100m-train</td></tr><tr><td>image_url</td><td>https://multimedia-c...</td></tr><tr><td>number</td><td>9</td></tr><tr><td>org_id</td><td>15804296</td></tr><tr><td>reviewed</td><td>True</td></tr><tr><td>target</td><td>tubs</td></tr><tr><td>target_context</td><td>nine tubs of homemad...</td></tr></table><br/></div></div>"
      ],
      "text/plain": [
       "<IPython.core.display.HTML object>"
      ]
     },
     "metadata": {},
     "output_type": "display_data"
    },
    {
     "data": {
      "text/html": [
       " View run <strong style=\"color:#cdcd00\">clear-fire-1824</strong> at: <a href='https://wandb.ai/ruisu/clip_count_filtered_images_reviewed/runs/3af7m3x3' target=\"_blank\">https://wandb.ai/ruisu/clip_count_filtered_images_reviewed/runs/3af7m3x3</a><br/> View project at: <a href='https://wandb.ai/ruisu/clip_count_filtered_images_reviewed' target=\"_blank\">https://wandb.ai/ruisu/clip_count_filtered_images_reviewed</a><br/>Synced 5 W&B file(s), 1 media file(s), 0 artifact file(s) and 0 other file(s)"
      ],
      "text/plain": [
       "<IPython.core.display.HTML object>"
      ]
     },
     "metadata": {},
     "output_type": "display_data"
    },
    {
     "data": {
      "text/html": [
       "Find logs at: <code>./wandb/run-20240526_120321-3af7m3x3/logs</code>"
      ],
      "text/plain": [
       "<IPython.core.display.HTML object>"
      ]
     },
     "metadata": {},
     "output_type": "display_data"
    },
    {
     "data": {
      "text/html": [
       "wandb version 0.17.0 is available!  To upgrade, please run:\n",
       " $ pip install wandb --upgrade"
      ],
      "text/plain": [
       "<IPython.core.display.HTML object>"
      ]
     },
     "metadata": {},
     "output_type": "display_data"
    },
    {
     "data": {
      "text/html": [
       "Tracking run with wandb version 0.16.6"
      ],
      "text/plain": [
       "<IPython.core.display.HTML object>"
      ]
     },
     "metadata": {},
     "output_type": "display_data"
    },
    {
     "data": {
      "text/html": [
       "Run data is saved locally in <code>/Users/susu/Library/CloudStorage/OneDrive-Personal/Wisc/clip_count_continued/CLIP_Counting/process_dataset/wandb/run-20240526_120327-wxn7a5ct</code>"
      ],
      "text/plain": [
       "<IPython.core.display.HTML object>"
      ]
     },
     "metadata": {},
     "output_type": "display_data"
    },
    {
     "data": {
      "text/html": [
       "Syncing run <strong><a href='https://wandb.ai/ruisu/clip_count_filtered_images_reviewed/runs/wxn7a5ct' target=\"_blank\">giddy-forest-1825</a></strong> to <a href='https://wandb.ai/ruisu/clip_count_filtered_images_reviewed' target=\"_blank\">Weights & Biases</a> (<a href='https://wandb.me/run' target=\"_blank\">docs</a>)<br/>"
      ],
      "text/plain": [
       "<IPython.core.display.HTML object>"
      ]
     },
     "metadata": {},
     "output_type": "display_data"
    },
    {
     "data": {
      "text/html": [
       " View project at <a href='https://wandb.ai/ruisu/clip_count_filtered_images_reviewed' target=\"_blank\">https://wandb.ai/ruisu/clip_count_filtered_images_reviewed</a>"
      ],
      "text/plain": [
       "<IPython.core.display.HTML object>"
      ]
     },
     "metadata": {},
     "output_type": "display_data"
    },
    {
     "data": {
      "text/html": [
       " View run at <a href='https://wandb.ai/ruisu/clip_count_filtered_images_reviewed/runs/wxn7a5ct' target=\"_blank\">https://wandb.ai/ruisu/clip_count_filtered_images_reviewed/runs/wxn7a5ct</a>"
      ],
      "text/plain": [
       "<IPython.core.display.HTML object>"
      ]
     },
     "metadata": {},
     "output_type": "display_data"
    },
    {
     "data": {
      "text/html": [
       "<style>\n",
       "    table.wandb td:nth-child(1) { padding: 0 10px; text-align: left ; width: auto;} td:nth-child(2) {text-align: left ; width: 100%}\n",
       "    .wandb-row { display: flex; flex-direction: row; flex-wrap: wrap; justify-content: flex-start; width: 100% }\n",
       "    .wandb-col { display: flex; flex-direction: column; flex-basis: 100%; flex: 1; padding: 10px; }\n",
       "    </style>\n",
       "<div class=\"wandb-row\"><div class=\"wandb-col\"><h3>Run history:</h3><br/><table class=\"wandb\"><tr><td>number</td><td>▁</td></tr><tr><td>org_id</td><td>▁</td></tr><tr><td>reviewed</td><td>▁</td></tr></table><br/></div><div class=\"wandb-col\"><h3>Run summary:</h3><br/><table class=\"wandb\"><tr><td>dataset_name</td><td>pmd-yfcc100m-train</td></tr><tr><td>image_url</td><td>https://multimedia-c...</td></tr><tr><td>number</td><td>9</td></tr><tr><td>org_id</td><td>15684359</td></tr><tr><td>reviewed</td><td>True</td></tr><tr><td>target</td><td>points</td></tr><tr><td>target_context</td><td>nine points on a fin...</td></tr></table><br/></div></div>"
      ],
      "text/plain": [
       "<IPython.core.display.HTML object>"
      ]
     },
     "metadata": {},
     "output_type": "display_data"
    },
    {
     "data": {
      "text/html": [
       " View run <strong style=\"color:#cdcd00\">giddy-forest-1825</strong> at: <a href='https://wandb.ai/ruisu/clip_count_filtered_images_reviewed/runs/wxn7a5ct' target=\"_blank\">https://wandb.ai/ruisu/clip_count_filtered_images_reviewed/runs/wxn7a5ct</a><br/> View project at: <a href='https://wandb.ai/ruisu/clip_count_filtered_images_reviewed' target=\"_blank\">https://wandb.ai/ruisu/clip_count_filtered_images_reviewed</a><br/>Synced 5 W&B file(s), 1 media file(s), 0 artifact file(s) and 0 other file(s)"
      ],
      "text/plain": [
       "<IPython.core.display.HTML object>"
      ]
     },
     "metadata": {},
     "output_type": "display_data"
    },
    {
     "data": {
      "text/html": [
       "Find logs at: <code>./wandb/run-20240526_120327-wxn7a5ct/logs</code>"
      ],
      "text/plain": [
       "<IPython.core.display.HTML object>"
      ]
     },
     "metadata": {},
     "output_type": "display_data"
    },
    {
     "data": {
      "text/html": [
       "wandb version 0.17.0 is available!  To upgrade, please run:\n",
       " $ pip install wandb --upgrade"
      ],
      "text/plain": [
       "<IPython.core.display.HTML object>"
      ]
     },
     "metadata": {},
     "output_type": "display_data"
    },
    {
     "data": {
      "text/html": [
       "Tracking run with wandb version 0.16.6"
      ],
      "text/plain": [
       "<IPython.core.display.HTML object>"
      ]
     },
     "metadata": {},
     "output_type": "display_data"
    },
    {
     "data": {
      "text/html": [
       "Run data is saved locally in <code>/Users/susu/Library/CloudStorage/OneDrive-Personal/Wisc/clip_count_continued/CLIP_Counting/process_dataset/wandb/run-20240526_120334-lg4dmzr4</code>"
      ],
      "text/plain": [
       "<IPython.core.display.HTML object>"
      ]
     },
     "metadata": {},
     "output_type": "display_data"
    },
    {
     "data": {
      "text/html": [
       "Syncing run <strong><a href='https://wandb.ai/ruisu/clip_count_filtered_images_reviewed/runs/lg4dmzr4' target=\"_blank\">ancient-sunset-1826</a></strong> to <a href='https://wandb.ai/ruisu/clip_count_filtered_images_reviewed' target=\"_blank\">Weights & Biases</a> (<a href='https://wandb.me/run' target=\"_blank\">docs</a>)<br/>"
      ],
      "text/plain": [
       "<IPython.core.display.HTML object>"
      ]
     },
     "metadata": {},
     "output_type": "display_data"
    },
    {
     "data": {
      "text/html": [
       " View project at <a href='https://wandb.ai/ruisu/clip_count_filtered_images_reviewed' target=\"_blank\">https://wandb.ai/ruisu/clip_count_filtered_images_reviewed</a>"
      ],
      "text/plain": [
       "<IPython.core.display.HTML object>"
      ]
     },
     "metadata": {},
     "output_type": "display_data"
    },
    {
     "data": {
      "text/html": [
       " View run at <a href='https://wandb.ai/ruisu/clip_count_filtered_images_reviewed/runs/lg4dmzr4' target=\"_blank\">https://wandb.ai/ruisu/clip_count_filtered_images_reviewed/runs/lg4dmzr4</a>"
      ],
      "text/plain": [
       "<IPython.core.display.HTML object>"
      ]
     },
     "metadata": {},
     "output_type": "display_data"
    },
    {
     "data": {
      "text/html": [
       "<style>\n",
       "    table.wandb td:nth-child(1) { padding: 0 10px; text-align: left ; width: auto;} td:nth-child(2) {text-align: left ; width: 100%}\n",
       "    .wandb-row { display: flex; flex-direction: row; flex-wrap: wrap; justify-content: flex-start; width: 100% }\n",
       "    .wandb-col { display: flex; flex-direction: column; flex-basis: 100%; flex: 1; padding: 10px; }\n",
       "    </style>\n",
       "<div class=\"wandb-row\"><div class=\"wandb-col\"><h3>Run history:</h3><br/><table class=\"wandb\"><tr><td>number</td><td>▁</td></tr><tr><td>org_id</td><td>▁</td></tr><tr><td>reviewed</td><td>▁</td></tr></table><br/></div><div class=\"wandb-col\"><h3>Run summary:</h3><br/><table class=\"wandb\"><tr><td>dataset_name</td><td>pmd-yfcc100m-train</td></tr><tr><td>image_url</td><td>https://multimedia-c...</td></tr><tr><td>number</td><td>9</td></tr><tr><td>org_id</td><td>14382608</td></tr><tr><td>reviewed</td><td>True</td></tr><tr><td>target</td><td>windows</td></tr><tr><td>target_context</td><td>there nine windows o...</td></tr></table><br/></div></div>"
      ],
      "text/plain": [
       "<IPython.core.display.HTML object>"
      ]
     },
     "metadata": {},
     "output_type": "display_data"
    },
    {
     "data": {
      "text/html": [
       " View run <strong style=\"color:#cdcd00\">ancient-sunset-1826</strong> at: <a href='https://wandb.ai/ruisu/clip_count_filtered_images_reviewed/runs/lg4dmzr4' target=\"_blank\">https://wandb.ai/ruisu/clip_count_filtered_images_reviewed/runs/lg4dmzr4</a><br/> View project at: <a href='https://wandb.ai/ruisu/clip_count_filtered_images_reviewed' target=\"_blank\">https://wandb.ai/ruisu/clip_count_filtered_images_reviewed</a><br/>Synced 5 W&B file(s), 1 media file(s), 0 artifact file(s) and 0 other file(s)"
      ],
      "text/plain": [
       "<IPython.core.display.HTML object>"
      ]
     },
     "metadata": {},
     "output_type": "display_data"
    },
    {
     "data": {
      "text/html": [
       "Find logs at: <code>./wandb/run-20240526_120334-lg4dmzr4/logs</code>"
      ],
      "text/plain": [
       "<IPython.core.display.HTML object>"
      ]
     },
     "metadata": {},
     "output_type": "display_data"
    },
    {
     "data": {
      "text/html": [
       "wandb version 0.17.0 is available!  To upgrade, please run:\n",
       " $ pip install wandb --upgrade"
      ],
      "text/plain": [
       "<IPython.core.display.HTML object>"
      ]
     },
     "metadata": {},
     "output_type": "display_data"
    },
    {
     "data": {
      "text/html": [
       "Tracking run with wandb version 0.16.6"
      ],
      "text/plain": [
       "<IPython.core.display.HTML object>"
      ]
     },
     "metadata": {},
     "output_type": "display_data"
    },
    {
     "data": {
      "text/html": [
       "Run data is saved locally in <code>/Users/susu/Library/CloudStorage/OneDrive-Personal/Wisc/clip_count_continued/CLIP_Counting/process_dataset/wandb/run-20240526_120340-o850oamp</code>"
      ],
      "text/plain": [
       "<IPython.core.display.HTML object>"
      ]
     },
     "metadata": {},
     "output_type": "display_data"
    },
    {
     "data": {
      "text/html": [
       "Syncing run <strong><a href='https://wandb.ai/ruisu/clip_count_filtered_images_reviewed/runs/o850oamp' target=\"_blank\">robust-oath-1827</a></strong> to <a href='https://wandb.ai/ruisu/clip_count_filtered_images_reviewed' target=\"_blank\">Weights & Biases</a> (<a href='https://wandb.me/run' target=\"_blank\">docs</a>)<br/>"
      ],
      "text/plain": [
       "<IPython.core.display.HTML object>"
      ]
     },
     "metadata": {},
     "output_type": "display_data"
    },
    {
     "data": {
      "text/html": [
       " View project at <a href='https://wandb.ai/ruisu/clip_count_filtered_images_reviewed' target=\"_blank\">https://wandb.ai/ruisu/clip_count_filtered_images_reviewed</a>"
      ],
      "text/plain": [
       "<IPython.core.display.HTML object>"
      ]
     },
     "metadata": {},
     "output_type": "display_data"
    },
    {
     "data": {
      "text/html": [
       " View run at <a href='https://wandb.ai/ruisu/clip_count_filtered_images_reviewed/runs/o850oamp' target=\"_blank\">https://wandb.ai/ruisu/clip_count_filtered_images_reviewed/runs/o850oamp</a>"
      ],
      "text/plain": [
       "<IPython.core.display.HTML object>"
      ]
     },
     "metadata": {},
     "output_type": "display_data"
    },
    {
     "data": {
      "text/html": [
       "<style>\n",
       "    table.wandb td:nth-child(1) { padding: 0 10px; text-align: left ; width: auto;} td:nth-child(2) {text-align: left ; width: 100%}\n",
       "    .wandb-row { display: flex; flex-direction: row; flex-wrap: wrap; justify-content: flex-start; width: 100% }\n",
       "    .wandb-col { display: flex; flex-direction: column; flex-basis: 100%; flex: 1; padding: 10px; }\n",
       "    </style>\n",
       "<div class=\"wandb-row\"><div class=\"wandb-col\"><h3>Run history:</h3><br/><table class=\"wandb\"><tr><td>number</td><td>▁</td></tr><tr><td>org_id</td><td>▁</td></tr><tr><td>reviewed</td><td>▁</td></tr></table><br/></div><div class=\"wandb-col\"><h3>Run summary:</h3><br/><table class=\"wandb\"><tr><td>dataset_name</td><td>pmd-yfcc100m-train</td></tr><tr><td>image_url</td><td>https://multimedia-c...</td></tr><tr><td>number</td><td>9</td></tr><tr><td>org_id</td><td>11339702</td></tr><tr><td>reviewed</td><td>True</td></tr><tr><td>target</td><td>bows</td></tr><tr><td>target_context</td><td>first nine bows for ...</td></tr></table><br/></div></div>"
      ],
      "text/plain": [
       "<IPython.core.display.HTML object>"
      ]
     },
     "metadata": {},
     "output_type": "display_data"
    },
    {
     "data": {
      "text/html": [
       " View run <strong style=\"color:#cdcd00\">robust-oath-1827</strong> at: <a href='https://wandb.ai/ruisu/clip_count_filtered_images_reviewed/runs/o850oamp' target=\"_blank\">https://wandb.ai/ruisu/clip_count_filtered_images_reviewed/runs/o850oamp</a><br/> View project at: <a href='https://wandb.ai/ruisu/clip_count_filtered_images_reviewed' target=\"_blank\">https://wandb.ai/ruisu/clip_count_filtered_images_reviewed</a><br/>Synced 5 W&B file(s), 1 media file(s), 0 artifact file(s) and 0 other file(s)"
      ],
      "text/plain": [
       "<IPython.core.display.HTML object>"
      ]
     },
     "metadata": {},
     "output_type": "display_data"
    },
    {
     "data": {
      "text/html": [
       "Find logs at: <code>./wandb/run-20240526_120340-o850oamp/logs</code>"
      ],
      "text/plain": [
       "<IPython.core.display.HTML object>"
      ]
     },
     "metadata": {},
     "output_type": "display_data"
    },
    {
     "data": {
      "text/html": [
       "wandb version 0.17.0 is available!  To upgrade, please run:\n",
       " $ pip install wandb --upgrade"
      ],
      "text/plain": [
       "<IPython.core.display.HTML object>"
      ]
     },
     "metadata": {},
     "output_type": "display_data"
    },
    {
     "data": {
      "text/html": [
       "Tracking run with wandb version 0.16.6"
      ],
      "text/plain": [
       "<IPython.core.display.HTML object>"
      ]
     },
     "metadata": {},
     "output_type": "display_data"
    },
    {
     "data": {
      "text/html": [
       "Run data is saved locally in <code>/Users/susu/Library/CloudStorage/OneDrive-Personal/Wisc/clip_count_continued/CLIP_Counting/process_dataset/wandb/run-20240526_120346-7oqmtwza</code>"
      ],
      "text/plain": [
       "<IPython.core.display.HTML object>"
      ]
     },
     "metadata": {},
     "output_type": "display_data"
    },
    {
     "data": {
      "text/html": [
       "Syncing run <strong><a href='https://wandb.ai/ruisu/clip_count_filtered_images_reviewed/runs/7oqmtwza' target=\"_blank\">quiet-sea-1828</a></strong> to <a href='https://wandb.ai/ruisu/clip_count_filtered_images_reviewed' target=\"_blank\">Weights & Biases</a> (<a href='https://wandb.me/run' target=\"_blank\">docs</a>)<br/>"
      ],
      "text/plain": [
       "<IPython.core.display.HTML object>"
      ]
     },
     "metadata": {},
     "output_type": "display_data"
    },
    {
     "data": {
      "text/html": [
       " View project at <a href='https://wandb.ai/ruisu/clip_count_filtered_images_reviewed' target=\"_blank\">https://wandb.ai/ruisu/clip_count_filtered_images_reviewed</a>"
      ],
      "text/plain": [
       "<IPython.core.display.HTML object>"
      ]
     },
     "metadata": {},
     "output_type": "display_data"
    },
    {
     "data": {
      "text/html": [
       " View run at <a href='https://wandb.ai/ruisu/clip_count_filtered_images_reviewed/runs/7oqmtwza' target=\"_blank\">https://wandb.ai/ruisu/clip_count_filtered_images_reviewed/runs/7oqmtwza</a>"
      ],
      "text/plain": [
       "<IPython.core.display.HTML object>"
      ]
     },
     "metadata": {},
     "output_type": "display_data"
    },
    {
     "data": {
      "text/html": [
       "<style>\n",
       "    table.wandb td:nth-child(1) { padding: 0 10px; text-align: left ; width: auto;} td:nth-child(2) {text-align: left ; width: 100%}\n",
       "    .wandb-row { display: flex; flex-direction: row; flex-wrap: wrap; justify-content: flex-start; width: 100% }\n",
       "    .wandb-col { display: flex; flex-direction: column; flex-basis: 100%; flex: 1; padding: 10px; }\n",
       "    </style>\n",
       "<div class=\"wandb-row\"><div class=\"wandb-col\"><h3>Run history:</h3><br/><table class=\"wandb\"><tr><td>number</td><td>▁</td></tr><tr><td>org_id</td><td>▁</td></tr><tr><td>reviewed</td><td>▁</td></tr></table><br/></div><div class=\"wandb-col\"><h3>Run summary:</h3><br/><table class=\"wandb\"><tr><td>dataset_name</td><td>conceptual_12m-train...</td></tr><tr><td>image_url</td><td>https://image.shutte...</td></tr><tr><td>number</td><td>4</td></tr><tr><td>org_id</td><td>6436669</td></tr><tr><td>reviewed</td><td>True</td></tr><tr><td>target</td><td>dogs</td></tr><tr><td>target_context</td><td>picture of a four do...</td></tr></table><br/></div></div>"
      ],
      "text/plain": [
       "<IPython.core.display.HTML object>"
      ]
     },
     "metadata": {},
     "output_type": "display_data"
    },
    {
     "data": {
      "text/html": [
       " View run <strong style=\"color:#cdcd00\">quiet-sea-1828</strong> at: <a href='https://wandb.ai/ruisu/clip_count_filtered_images_reviewed/runs/7oqmtwza' target=\"_blank\">https://wandb.ai/ruisu/clip_count_filtered_images_reviewed/runs/7oqmtwza</a><br/> View project at: <a href='https://wandb.ai/ruisu/clip_count_filtered_images_reviewed' target=\"_blank\">https://wandb.ai/ruisu/clip_count_filtered_images_reviewed</a><br/>Synced 5 W&B file(s), 1 media file(s), 0 artifact file(s) and 0 other file(s)"
      ],
      "text/plain": [
       "<IPython.core.display.HTML object>"
      ]
     },
     "metadata": {},
     "output_type": "display_data"
    },
    {
     "data": {
      "text/html": [
       "Find logs at: <code>./wandb/run-20240526_120346-7oqmtwza/logs</code>"
      ],
      "text/plain": [
       "<IPython.core.display.HTML object>"
      ]
     },
     "metadata": {},
     "output_type": "display_data"
    },
    {
     "data": {
      "text/html": [
       "wandb version 0.17.0 is available!  To upgrade, please run:\n",
       " $ pip install wandb --upgrade"
      ],
      "text/plain": [
       "<IPython.core.display.HTML object>"
      ]
     },
     "metadata": {},
     "output_type": "display_data"
    },
    {
     "data": {
      "text/html": [
       "Tracking run with wandb version 0.16.6"
      ],
      "text/plain": [
       "<IPython.core.display.HTML object>"
      ]
     },
     "metadata": {},
     "output_type": "display_data"
    },
    {
     "data": {
      "text/html": [
       "Run data is saved locally in <code>/Users/susu/Library/CloudStorage/OneDrive-Personal/Wisc/clip_count_continued/CLIP_Counting/process_dataset/wandb/run-20240526_120352-bo1ki9wm</code>"
      ],
      "text/plain": [
       "<IPython.core.display.HTML object>"
      ]
     },
     "metadata": {},
     "output_type": "display_data"
    },
    {
     "data": {
      "text/html": [
       "Syncing run <strong><a href='https://wandb.ai/ruisu/clip_count_filtered_images_reviewed/runs/bo1ki9wm' target=\"_blank\">lemon-hill-1829</a></strong> to <a href='https://wandb.ai/ruisu/clip_count_filtered_images_reviewed' target=\"_blank\">Weights & Biases</a> (<a href='https://wandb.me/run' target=\"_blank\">docs</a>)<br/>"
      ],
      "text/plain": [
       "<IPython.core.display.HTML object>"
      ]
     },
     "metadata": {},
     "output_type": "display_data"
    },
    {
     "data": {
      "text/html": [
       " View project at <a href='https://wandb.ai/ruisu/clip_count_filtered_images_reviewed' target=\"_blank\">https://wandb.ai/ruisu/clip_count_filtered_images_reviewed</a>"
      ],
      "text/plain": [
       "<IPython.core.display.HTML object>"
      ]
     },
     "metadata": {},
     "output_type": "display_data"
    },
    {
     "data": {
      "text/html": [
       " View run at <a href='https://wandb.ai/ruisu/clip_count_filtered_images_reviewed/runs/bo1ki9wm' target=\"_blank\">https://wandb.ai/ruisu/clip_count_filtered_images_reviewed/runs/bo1ki9wm</a>"
      ],
      "text/plain": [
       "<IPython.core.display.HTML object>"
      ]
     },
     "metadata": {},
     "output_type": "display_data"
    },
    {
     "data": {
      "text/html": [
       "<style>\n",
       "    table.wandb td:nth-child(1) { padding: 0 10px; text-align: left ; width: auto;} td:nth-child(2) {text-align: left ; width: 100%}\n",
       "    .wandb-row { display: flex; flex-direction: row; flex-wrap: wrap; justify-content: flex-start; width: 100% }\n",
       "    .wandb-col { display: flex; flex-direction: column; flex-basis: 100%; flex: 1; padding: 10px; }\n",
       "    </style>\n",
       "<div class=\"wandb-row\"><div class=\"wandb-col\"><h3>Run history:</h3><br/><table class=\"wandb\"><tr><td>number</td><td>▁</td></tr><tr><td>org_id</td><td>▁</td></tr><tr><td>reviewed</td><td>▁</td></tr></table><br/></div><div class=\"wandb-col\"><h3>Run summary:</h3><br/><table class=\"wandb\"><tr><td>dataset_name</td><td>conceptual_12m-train...</td></tr><tr><td>image_url</td><td>https://trend-group....</td></tr><tr><td>number</td><td>9</td></tr><tr><td>org_id</td><td>7607548</td></tr><tr><td>reviewed</td><td>True</td></tr><tr><td>target</td><td>golden columns</td></tr><tr><td>target_context</td><td>nine golden columns ...</td></tr></table><br/></div></div>"
      ],
      "text/plain": [
       "<IPython.core.display.HTML object>"
      ]
     },
     "metadata": {},
     "output_type": "display_data"
    },
    {
     "data": {
      "text/html": [
       " View run <strong style=\"color:#cdcd00\">lemon-hill-1829</strong> at: <a href='https://wandb.ai/ruisu/clip_count_filtered_images_reviewed/runs/bo1ki9wm' target=\"_blank\">https://wandb.ai/ruisu/clip_count_filtered_images_reviewed/runs/bo1ki9wm</a><br/> View project at: <a href='https://wandb.ai/ruisu/clip_count_filtered_images_reviewed' target=\"_blank\">https://wandb.ai/ruisu/clip_count_filtered_images_reviewed</a><br/>Synced 5 W&B file(s), 1 media file(s), 0 artifact file(s) and 0 other file(s)"
      ],
      "text/plain": [
       "<IPython.core.display.HTML object>"
      ]
     },
     "metadata": {},
     "output_type": "display_data"
    },
    {
     "data": {
      "text/html": [
       "Find logs at: <code>./wandb/run-20240526_120352-bo1ki9wm/logs</code>"
      ],
      "text/plain": [
       "<IPython.core.display.HTML object>"
      ]
     },
     "metadata": {},
     "output_type": "display_data"
    },
    {
     "data": {
      "text/html": [
       "wandb version 0.17.0 is available!  To upgrade, please run:\n",
       " $ pip install wandb --upgrade"
      ],
      "text/plain": [
       "<IPython.core.display.HTML object>"
      ]
     },
     "metadata": {},
     "output_type": "display_data"
    },
    {
     "data": {
      "text/html": [
       "Tracking run with wandb version 0.16.6"
      ],
      "text/plain": [
       "<IPython.core.display.HTML object>"
      ]
     },
     "metadata": {},
     "output_type": "display_data"
    },
    {
     "data": {
      "text/html": [
       "Run data is saved locally in <code>/Users/susu/Library/CloudStorage/OneDrive-Personal/Wisc/clip_count_continued/CLIP_Counting/process_dataset/wandb/run-20240526_120359-92ebci4i</code>"
      ],
      "text/plain": [
       "<IPython.core.display.HTML object>"
      ]
     },
     "metadata": {},
     "output_type": "display_data"
    },
    {
     "data": {
      "text/html": [
       "Syncing run <strong><a href='https://wandb.ai/ruisu/clip_count_filtered_images_reviewed/runs/92ebci4i' target=\"_blank\">crisp-snowflake-1830</a></strong> to <a href='https://wandb.ai/ruisu/clip_count_filtered_images_reviewed' target=\"_blank\">Weights & Biases</a> (<a href='https://wandb.me/run' target=\"_blank\">docs</a>)<br/>"
      ],
      "text/plain": [
       "<IPython.core.display.HTML object>"
      ]
     },
     "metadata": {},
     "output_type": "display_data"
    },
    {
     "data": {
      "text/html": [
       " View project at <a href='https://wandb.ai/ruisu/clip_count_filtered_images_reviewed' target=\"_blank\">https://wandb.ai/ruisu/clip_count_filtered_images_reviewed</a>"
      ],
      "text/plain": [
       "<IPython.core.display.HTML object>"
      ]
     },
     "metadata": {},
     "output_type": "display_data"
    },
    {
     "data": {
      "text/html": [
       " View run at <a href='https://wandb.ai/ruisu/clip_count_filtered_images_reviewed/runs/92ebci4i' target=\"_blank\">https://wandb.ai/ruisu/clip_count_filtered_images_reviewed/runs/92ebci4i</a>"
      ],
      "text/plain": [
       "<IPython.core.display.HTML object>"
      ]
     },
     "metadata": {},
     "output_type": "display_data"
    },
    {
     "data": {
      "text/html": [
       "<style>\n",
       "    table.wandb td:nth-child(1) { padding: 0 10px; text-align: left ; width: auto;} td:nth-child(2) {text-align: left ; width: 100%}\n",
       "    .wandb-row { display: flex; flex-direction: row; flex-wrap: wrap; justify-content: flex-start; width: 100% }\n",
       "    .wandb-col { display: flex; flex-direction: column; flex-basis: 100%; flex: 1; padding: 10px; }\n",
       "    </style>\n",
       "<div class=\"wandb-row\"><div class=\"wandb-col\"><h3>Run history:</h3><br/><table class=\"wandb\"><tr><td>number</td><td>▁</td></tr><tr><td>org_id</td><td>▁</td></tr><tr><td>reviewed</td><td>▁</td></tr></table><br/></div><div class=\"wandb-col\"><h3>Run summary:</h3><br/><table class=\"wandb\"><tr><td>dataset_name</td><td>conceptual_12m-train...</td></tr><tr><td>image_url</td><td>https://i.pinimg.com...</td></tr><tr><td>number</td><td>9</td></tr><tr><td>org_id</td><td>6778998</td></tr><tr><td>reviewed</td><td>True</td></tr><tr><td>target</td><td>new figures</td></tr><tr><td>target_context</td><td>popular toy and figu...</td></tr></table><br/></div></div>"
      ],
      "text/plain": [
       "<IPython.core.display.HTML object>"
      ]
     },
     "metadata": {},
     "output_type": "display_data"
    },
    {
     "data": {
      "text/html": [
       " View run <strong style=\"color:#cdcd00\">crisp-snowflake-1830</strong> at: <a href='https://wandb.ai/ruisu/clip_count_filtered_images_reviewed/runs/92ebci4i' target=\"_blank\">https://wandb.ai/ruisu/clip_count_filtered_images_reviewed/runs/92ebci4i</a><br/> View project at: <a href='https://wandb.ai/ruisu/clip_count_filtered_images_reviewed' target=\"_blank\">https://wandb.ai/ruisu/clip_count_filtered_images_reviewed</a><br/>Synced 5 W&B file(s), 1 media file(s), 0 artifact file(s) and 0 other file(s)"
      ],
      "text/plain": [
       "<IPython.core.display.HTML object>"
      ]
     },
     "metadata": {},
     "output_type": "display_data"
    },
    {
     "data": {
      "text/html": [
       "Find logs at: <code>./wandb/run-20240526_120359-92ebci4i/logs</code>"
      ],
      "text/plain": [
       "<IPython.core.display.HTML object>"
      ]
     },
     "metadata": {},
     "output_type": "display_data"
    },
    {
     "data": {
      "text/html": [
       "wandb version 0.17.0 is available!  To upgrade, please run:\n",
       " $ pip install wandb --upgrade"
      ],
      "text/plain": [
       "<IPython.core.display.HTML object>"
      ]
     },
     "metadata": {},
     "output_type": "display_data"
    },
    {
     "data": {
      "text/html": [
       "Tracking run with wandb version 0.16.6"
      ],
      "text/plain": [
       "<IPython.core.display.HTML object>"
      ]
     },
     "metadata": {},
     "output_type": "display_data"
    },
    {
     "data": {
      "text/html": [
       "Run data is saved locally in <code>/Users/susu/Library/CloudStorage/OneDrive-Personal/Wisc/clip_count_continued/CLIP_Counting/process_dataset/wandb/run-20240526_120404-xtjjpwa4</code>"
      ],
      "text/plain": [
       "<IPython.core.display.HTML object>"
      ]
     },
     "metadata": {},
     "output_type": "display_data"
    },
    {
     "data": {
      "text/html": [
       "Syncing run <strong><a href='https://wandb.ai/ruisu/clip_count_filtered_images_reviewed/runs/xtjjpwa4' target=\"_blank\">upbeat-elevator-1831</a></strong> to <a href='https://wandb.ai/ruisu/clip_count_filtered_images_reviewed' target=\"_blank\">Weights & Biases</a> (<a href='https://wandb.me/run' target=\"_blank\">docs</a>)<br/>"
      ],
      "text/plain": [
       "<IPython.core.display.HTML object>"
      ]
     },
     "metadata": {},
     "output_type": "display_data"
    },
    {
     "data": {
      "text/html": [
       " View project at <a href='https://wandb.ai/ruisu/clip_count_filtered_images_reviewed' target=\"_blank\">https://wandb.ai/ruisu/clip_count_filtered_images_reviewed</a>"
      ],
      "text/plain": [
       "<IPython.core.display.HTML object>"
      ]
     },
     "metadata": {},
     "output_type": "display_data"
    },
    {
     "data": {
      "text/html": [
       " View run at <a href='https://wandb.ai/ruisu/clip_count_filtered_images_reviewed/runs/xtjjpwa4' target=\"_blank\">https://wandb.ai/ruisu/clip_count_filtered_images_reviewed/runs/xtjjpwa4</a>"
      ],
      "text/plain": [
       "<IPython.core.display.HTML object>"
      ]
     },
     "metadata": {},
     "output_type": "display_data"
    },
    {
     "data": {
      "text/html": [
       "<style>\n",
       "    table.wandb td:nth-child(1) { padding: 0 10px; text-align: left ; width: auto;} td:nth-child(2) {text-align: left ; width: 100%}\n",
       "    .wandb-row { display: flex; flex-direction: row; flex-wrap: wrap; justify-content: flex-start; width: 100% }\n",
       "    .wandb-col { display: flex; flex-direction: column; flex-basis: 100%; flex: 1; padding: 10px; }\n",
       "    </style>\n",
       "<div class=\"wandb-row\"><div class=\"wandb-col\"><h3>Run history:</h3><br/><table class=\"wandb\"><tr><td>number</td><td>▁</td></tr><tr><td>org_id</td><td>▁</td></tr><tr><td>reviewed</td><td>▁</td></tr></table><br/></div><div class=\"wandb-col\"><h3>Run summary:</h3><br/><table class=\"wandb\"><tr><td>dataset_name</td><td>conceptual_12m-train...</td></tr><tr><td>image_url</td><td>https://i.pinimg.com...</td></tr><tr><td>number</td><td>9</td></tr><tr><td>org_id</td><td>6665680</td></tr><tr><td>reviewed</td><td>True</td></tr><tr><td>target</td><td>icons</td></tr><tr><td>target_context</td><td>a tree with nine ico...</td></tr></table><br/></div></div>"
      ],
      "text/plain": [
       "<IPython.core.display.HTML object>"
      ]
     },
     "metadata": {},
     "output_type": "display_data"
    },
    {
     "data": {
      "text/html": [
       " View run <strong style=\"color:#cdcd00\">upbeat-elevator-1831</strong> at: <a href='https://wandb.ai/ruisu/clip_count_filtered_images_reviewed/runs/xtjjpwa4' target=\"_blank\">https://wandb.ai/ruisu/clip_count_filtered_images_reviewed/runs/xtjjpwa4</a><br/> View project at: <a href='https://wandb.ai/ruisu/clip_count_filtered_images_reviewed' target=\"_blank\">https://wandb.ai/ruisu/clip_count_filtered_images_reviewed</a><br/>Synced 5 W&B file(s), 1 media file(s), 0 artifact file(s) and 0 other file(s)"
      ],
      "text/plain": [
       "<IPython.core.display.HTML object>"
      ]
     },
     "metadata": {},
     "output_type": "display_data"
    },
    {
     "data": {
      "text/html": [
       "Find logs at: <code>./wandb/run-20240526_120404-xtjjpwa4/logs</code>"
      ],
      "text/plain": [
       "<IPython.core.display.HTML object>"
      ]
     },
     "metadata": {},
     "output_type": "display_data"
    },
    {
     "data": {
      "text/html": [
       "wandb version 0.17.0 is available!  To upgrade, please run:\n",
       " $ pip install wandb --upgrade"
      ],
      "text/plain": [
       "<IPython.core.display.HTML object>"
      ]
     },
     "metadata": {},
     "output_type": "display_data"
    },
    {
     "data": {
      "text/html": [
       "Tracking run with wandb version 0.16.6"
      ],
      "text/plain": [
       "<IPython.core.display.HTML object>"
      ]
     },
     "metadata": {},
     "output_type": "display_data"
    },
    {
     "data": {
      "text/html": [
       "Run data is saved locally in <code>/Users/susu/Library/CloudStorage/OneDrive-Personal/Wisc/clip_count_continued/CLIP_Counting/process_dataset/wandb/run-20240526_120411-txpsytz4</code>"
      ],
      "text/plain": [
       "<IPython.core.display.HTML object>"
      ]
     },
     "metadata": {},
     "output_type": "display_data"
    },
    {
     "data": {
      "text/html": [
       "Syncing run <strong><a href='https://wandb.ai/ruisu/clip_count_filtered_images_reviewed/runs/txpsytz4' target=\"_blank\">wandering-dragon-1832</a></strong> to <a href='https://wandb.ai/ruisu/clip_count_filtered_images_reviewed' target=\"_blank\">Weights & Biases</a> (<a href='https://wandb.me/run' target=\"_blank\">docs</a>)<br/>"
      ],
      "text/plain": [
       "<IPython.core.display.HTML object>"
      ]
     },
     "metadata": {},
     "output_type": "display_data"
    },
    {
     "data": {
      "text/html": [
       " View project at <a href='https://wandb.ai/ruisu/clip_count_filtered_images_reviewed' target=\"_blank\">https://wandb.ai/ruisu/clip_count_filtered_images_reviewed</a>"
      ],
      "text/plain": [
       "<IPython.core.display.HTML object>"
      ]
     },
     "metadata": {},
     "output_type": "display_data"
    },
    {
     "data": {
      "text/html": [
       " View run at <a href='https://wandb.ai/ruisu/clip_count_filtered_images_reviewed/runs/txpsytz4' target=\"_blank\">https://wandb.ai/ruisu/clip_count_filtered_images_reviewed/runs/txpsytz4</a>"
      ],
      "text/plain": [
       "<IPython.core.display.HTML object>"
      ]
     },
     "metadata": {},
     "output_type": "display_data"
    },
    {
     "data": {
      "text/html": [
       "<style>\n",
       "    table.wandb td:nth-child(1) { padding: 0 10px; text-align: left ; width: auto;} td:nth-child(2) {text-align: left ; width: 100%}\n",
       "    .wandb-row { display: flex; flex-direction: row; flex-wrap: wrap; justify-content: flex-start; width: 100% }\n",
       "    .wandb-col { display: flex; flex-direction: column; flex-basis: 100%; flex: 1; padding: 10px; }\n",
       "    </style>\n",
       "<div class=\"wandb-row\"><div class=\"wandb-col\"><h3>Run history:</h3><br/><table class=\"wandb\"><tr><td>number</td><td>▁</td></tr><tr><td>org_id</td><td>▁</td></tr><tr><td>reviewed</td><td>▁</td></tr></table><br/></div><div class=\"wandb-col\"><h3>Run summary:</h3><br/><table class=\"wandb\"><tr><td>dataset_name</td><td>conceptual_12m-train...</td></tr><tr><td>image_url</td><td>https://thumbs.dream...</td></tr><tr><td>number</td><td>7</td></tr><tr><td>org_id</td><td>6468326</td></tr><tr><td>reviewed</td><td>True</td></tr><tr><td>target</td><td>young football playe...</td></tr><tr><td>target_context</td><td>seven young german f...</td></tr></table><br/></div></div>"
      ],
      "text/plain": [
       "<IPython.core.display.HTML object>"
      ]
     },
     "metadata": {},
     "output_type": "display_data"
    },
    {
     "data": {
      "text/html": [
       " View run <strong style=\"color:#cdcd00\">wandering-dragon-1832</strong> at: <a href='https://wandb.ai/ruisu/clip_count_filtered_images_reviewed/runs/txpsytz4' target=\"_blank\">https://wandb.ai/ruisu/clip_count_filtered_images_reviewed/runs/txpsytz4</a><br/> View project at: <a href='https://wandb.ai/ruisu/clip_count_filtered_images_reviewed' target=\"_blank\">https://wandb.ai/ruisu/clip_count_filtered_images_reviewed</a><br/>Synced 5 W&B file(s), 1 media file(s), 0 artifact file(s) and 0 other file(s)"
      ],
      "text/plain": [
       "<IPython.core.display.HTML object>"
      ]
     },
     "metadata": {},
     "output_type": "display_data"
    },
    {
     "data": {
      "text/html": [
       "Find logs at: <code>./wandb/run-20240526_120411-txpsytz4/logs</code>"
      ],
      "text/plain": [
       "<IPython.core.display.HTML object>"
      ]
     },
     "metadata": {},
     "output_type": "display_data"
    }
   ],
   "source": [
    "# exited_reviewed_file = \"/Users/susu/Library/CloudStorage/OneDrive-Personal/Wisc/clip_count_continued/CLIP_Counting/online_data_0513/reviewed_marged_class_2345.json\"\n",
    "# exited_reviewed_file = \"/Users/susu/Library/CloudStorage/OneDrive-Personal/Wisc/clip_count_continued/CLIP_Counting/online_data_0518_4class/online_data_class_2345_reviewed.json\"\n",
    "# exited_reviewed_file = \"/Users/susu/Library/CloudStorage/OneDrive-Personal/Wisc/clip_count_continued/CLIP_Counting/online_data_0518_4class/online_data_class_2345_3rd_run_reviewed.json\"\n",
    "exited_reviewed_file = \"/Users/susu/Library/CloudStorage/OneDrive-Personal/Wisc/clip_count_continued/CLIP_Counting/online_data_0518_4class/online_data_class_479.json\"\n",
    "with open(exited_reviewed_file, 'r') as file:\n",
    "    exited_reviewed_data = json.load(file)\n",
    "print(len(exited_reviewed_data))\n",
    "for ele in exited_reviewed_data:\n",
    "    try:\n",
    "        img_response = requests.get(ele[\"image_url\"], timeout=10)\n",
    "        img = Image.open(BytesIO(img_response.content))\n",
    "    except:\n",
    "        continue\n",
    "    \n",
    "    wandb.init(project=\"clip_count_filtered_images_reviewed\", entity=\"ruisu\")\n",
    "    wandb.log({\n",
    "        \"number\": ele[\"number\"],\n",
    "        'target': ele[\"target\"],\n",
    "        'target_context': ele[\"target_context\"],\n",
    "        \"image_url\":ele[\"image_url\"],\n",
    "        \"dataset_name\":ele[\"dataset_name\"],\n",
    "        \"org_id\":ele[\"org_id\"],\n",
    "        \"image\":wandb.Image(img, caption=ele[\"target_context\"]),\n",
    "        \"reviewed\":True,\n",
    "    })\n",
    "    # wandb.log({\n",
    "    #     \"number\": ele[\"number\"],\n",
    "    #     'target': ele[\"target\"],\n",
    "    #     'target_context': ele[\"target_context\"],\n",
    "    #     \"image_url\":ele[\"image_url\"],\n",
    "    #     \"dataset_name\":None,\n",
    "    #     \"org_id\":None,\n",
    "    #     \"image\":wandb.Image(img, caption=ele[\"target_context\"]),\n",
    "    #     \"reviewed\":True,\n",
    "    # })\n",
    "    wandb.finish()"
   ]
  }
 ],
 "metadata": {
  "kernelspec": {
   "display_name": "clipcount",
   "language": "python",
   "name": "python3"
  },
  "language_info": {
   "codemirror_mode": {
    "name": "ipython",
    "version": 3
   },
   "file_extension": ".py",
   "mimetype": "text/x-python",
   "name": "python",
   "nbconvert_exporter": "python",
   "pygments_lexer": "ipython3",
   "version": "3.8.18"
  },
  "orig_nbformat": 4
 },
 "nbformat": 4,
 "nbformat_minor": 2
}
